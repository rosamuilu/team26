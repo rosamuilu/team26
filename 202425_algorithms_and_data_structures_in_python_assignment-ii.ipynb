{
 "cells": [
  {
   "cell_type": "markdown",
   "id": "0779691e",
   "metadata": {},
   "source": [
    "# Algorithms and Data Structures in Python — Assignment II ##\n",
    "\n",
    "The following assignment will test your understanding of topics covered in the first three weeks of the course. This assignment **will count towards your grade** and should be submitted through Canvas by **19.09.2024 at 23:59 (CEST)**. You are required to work and prepare your submissions in groups with 3 students per group. You can get at most 10 points for Assignment II, which is 10\\% of your final grade. \n",
    "\n",
    "1. For submission, please rename your notebook as ```group_{i}_assignment2.ipynb```. For example, submission by group 1 should have the filename ```group_1_assignment2.ipynb```.\n",
    "\n",
    "2. Please follow the function prototype specified in the question for writing your code. The usage of additional functions is acceptable unless the problem expressly prohibits it. If this structure is modified, it will fail automated testing steps.\n",
    "\n",
    "3. All submissions will be tested using additional automated testing steps (not only using the ones provided in the next sections).\n",
    "\n",
    "4. All submissions will be checked for code similarity. Submissions with high similarity will be summarily rejected and no points will be awarded.\n",
    "\n",
    "5. Please do NOT use the ```input()``` function in your code. \n",
    "\n",
    "6. For this assignment, the usage of ```numpy``` is **not** allowed.\n",
    "\n",
    "7. For each exercise the correct solution counts for the 80% of the exercise's points, while code style counts for the remaining 20%. Please, make sure that you explain what your implementation does using comments."
   ]
  },
  {
   "cell_type": "markdown",
   "id": "hispanic-exception",
   "metadata": {},
   "source": [
    "## Problem 1: Calculate the Value of a Complex Formula [2 points]\n",
    "\n",
    "Given the following formula, which computes a weighted sum of the first $n$ natural numbers, adjusted by a quadratic term:\n",
    "\n",
    "$$ S(n) = \\sum_{i=1}^{n} \\left( i^2 + 2i + 1 \\right) $$\n",
    "\n",
    "This formula sums the terms $i^2 + 2i + 1$ for each integer $i$ from 1 to $n$. For example:\n",
    "\n",
    "$$ S(3) = (1^2 + 2 \\cdot 1 + 1) + (2^2 + 2 \\cdot 2 + 1) + (3^2 + 2 \\cdot 3 + 1) = 29 $$\n",
    "\n",
    "In this problem, you will write a function ```calculate_complex_sum(n)``` that takes an integer $n$ as input and calculates the value of $S(n)$ using this formula. **You are not allowed to use any Python libraries in your implementation.**"
   ]
  },
  {
   "cell_type": "code",
   "execution_count": 1,
   "id": "resident-tournament",
   "metadata": {},
   "outputs": [],
   "source": [
    "def calculate_complex_sum(n):\n",
    "    pass"
   ]
  },
  {
   "cell_type": "code",
   "execution_count": 2,
   "id": "competent-chance",
   "metadata": {},
   "outputs": [],
   "source": [
    "import math\n",
    "\n",
    "assert(math.isclose(calculate_complex_sum(3), 29))\n",
    "\n",
    "assert(math.isclose(calculate_complex_sum(4), 54))"
   ]
  },
  {
   "cell_type": "markdown",
   "id": "ca7e6314",
   "metadata": {},
   "source": [
    "## Problem 2: Automatic Detection and Correction of Fused Mathematical Expressions [3 Points]\n",
    "\n",
    "### Fused Mathematical Expressions\n",
    "\n",
    "You have been hired by MathCorrector, a company specializing in developing tools to automatically detect and correct specific errors in mathematical expressions. This task focuses on errors where multiplication operators between numbers and variables are missing. \n",
    "\n",
    "For instance\n",
    "- `2x + 5y` should be converted to `2 * x + 5 * y`.\n",
    "\n",
    "### Handling of Special Symbols\n",
    "\n",
    "You are also required to handle specific mathematical constants and symbols that should not be split or modified. To simplify the task, you are only required to handle the following four specific mathematical constants and symbols. These symbols are:\n",
    "- `pi` (Pi)\n",
    "- `phi` (The golden ratio)\n",
    "- `theta` (Angle in trigonometry)\n",
    "- `gamma` (Euler-Mascheroni constant)\n",
    "\n",
    "For instance:\n",
    "- `2pi` should be `2 * pi`, not `2 * p * i`\n",
    "- `3theta` should remain `3 * theta`, not `3 * t * h * e * t * a`\n",
    "\n",
    "For simplicity, the input will only contaion varialbes(**consisting of a single letter**), numbers, the four specific symbols listed above, and basic arithmetic operators: addition (`+`), subtraction (`-`), multiplication (`*`), division (`/`), and equal (`=`).\n",
    "\n",
    "### Formatting Expression\n",
    "\n",
    "To make the expression easier to read, you are also required to format the expression to ensure consistent spacing between operators and operands. \n",
    "\n",
    "For instance:\n",
    "- `2*x+ 5*y` should be `2 * x + 5 * y`\n",
    "\n",
    "**You can assume that the input expression is correct except for the problems mentioned above.**\n",
    "\n",
    "### Functional Requirements\n",
    "\n",
    "Three functions are desiged to handle problmes metioned above. In this problem, you will implement theses three functions.\n",
    "\n",
    "1. **detect_fused_tokens(expr)**:\n",
    "   - **Purpose**: Detect where multiplication is missing between numbers and variables, ignoring the predefined constants.\n",
    "   - **Input**: A string `expr` representing the mathematical expression.\n",
    "   - **Process**: Identify places where numbers are directly followed by variables without an operator (such as `2x`), ensuring predefined constants like `pi` and `phi` are ignored.\n",
    "   - **Output**: Return a list of locations in the expression where multiplication is missing (as indices or substrings that need fixing).\n",
    "\n",
    "2. **insert_multiplication(expr, fused_tokens)**:\n",
    "   - **Purpose**: Insert multiplication operators in the correct positions identified by the `detect_fused_tokens` function.\n",
    "   - **Input**: A string `expr` representing the mathematical expression, and a list `fused_tokens` from the `detect_fused_tokens` function.\n",
    "   - **Process**: Add multiplication operators between numbers and variables in the locations identified by the `fused_tokens`.\n",
    "   - **Output**: Return the modified expression with the appropriate multiplication operators inserted.\n",
    "\n",
    "3. **format_expression(expr)**:\n",
    "   - **Purpose**: Format the expression to ensure consistent spacing between operators and operands, making the expression easier to read.\n",
    "   - **Input**: The expression processed by the `insert_multiplication` function.\n",
    "   - **Process**: Ensure appropriate spacing between all operators and operands.\n",
    "   - **Output**: Return the formatted mathematical expression.\n",
    "\n",
    "#### Example\n",
    "\n",
    "For the input `2x+ 5y - 3zw + 2pi`:\n",
    "- The `detect_fused_tokens` function will detect the missing multiplication operators and return relevant information (e.g., `['2x', '5y', '3zw']`).\n",
    "- The `insert_multiplication` function will process the expression and convert it to `2*x+ 5*y - 3*z*w + 2pi`.\n",
    "- The `format_expression` function will ensure consistent spacing and convert it to `2 * x + 5 * y - 3 * z * w + 2pi`.\n",
    "\n"
   ]
  },
  {
   "cell_type": "code",
   "execution_count": null,
   "id": "3670f279",
   "metadata": {},
   "outputs": [],
   "source": [
    "def detect_fused_tokens(expr):\n",
    "    pass\n",
    "\n",
    "def insert_multiplication(expr, fused_tokens):\n",
    "    pass\n",
    "\n",
    "def format_expression(expr):\n",
    "    pass"
   ]
  },
  {
   "cell_type": "code",
   "execution_count": 113,
   "id": "97956ce3",
   "metadata": {},
   "outputs": [],
   "source": [
    "# Tests for detect_fused_tokens\n",
    "assert(detect_fused_tokens(\"2x+ 5y = 3z + z3w\") == ['2x', '5y', '3z', 'z3w'])\n",
    "assert(detect_fused_tokens(\"a * b + 2 * c\") == [])\n",
    "assert(detect_fused_tokens(\"3x + 4pi\") == ['3x'])"
   ]
  },
  {
   "cell_type": "code",
   "execution_count": 115,
   "id": "75766d54",
   "metadata": {},
   "outputs": [],
   "source": [
    "# Tests for insert_multiplication\n",
    "assert(insert_multiplication(\"2x+ 5y = 3z + z3w\", ['2x', '5y', '3z', 'z3w']) == \"2*x+ 5*y = 3*z + z*3*w\")\n",
    "assert(insert_multiplication(\"a * b + 2 * c\", []) == \"a * b + 2 * c\")\n",
    "assert(insert_multiplication(\"3x + 4pi\", ['3x']) == \"3*x + 4pi\")"
   ]
  },
  {
   "cell_type": "code",
   "execution_count": 116,
   "id": "df4b81df",
   "metadata": {},
   "outputs": [],
   "source": [
    "# Tests for format_expression\n",
    "assert(format_expression(\"2*x+ 5*y = z*3+a*2*b\") == \"2 * x + 5 * y = z * 3 + a * 2 * b\")\n",
    "assert(format_expression(\"a*b + 2*c\") == \"a * b + 2 * c\")"
   ]
  },
  {
   "cell_type": "markdown",
   "id": "c2a9a15f",
   "metadata": {},
   "source": [
    "## Problem 3: Post-Processor of the LLM's Responce [5 pints]"
   ]
  },
  {
   "cell_type": "markdown",
   "id": "2646005b",
   "metadata": {},
   "source": [
    "Large Language Models (LLMs) do not always follow user instructions precisely. For a given task, LLMs may provide responses in various formats. You have been tasked with creating a post-processor to extract target information from LLM responses related to summarizing video descriptions. These responses will include keywords from the video descriptions, an overall summary of the video, and some redundant responses (e.g., \"Sure, here are the relevant keywords for each video description:\", \"And here is a new short description of the video in one sentence:\").\n",
    "\n",
    "Your task is to write a function `post_process` that returns a list of keywords and a sentence summarizing the video. Your code should be able to handle all formats of LLM responses. **Do not** rely on the index of data samples, as there are unlimited data samples with different formats in real applications. Given an LLM response, you should classify the format of the response (5 formats in our dataset) and extract the information using different strategies."
   ]
  },
  {
   "cell_type": "markdown",
   "id": "d7ddd787",
   "metadata": {},
   "source": [
    "```python\n",
    "keywords, summary = post_process(response)\n",
    "```\n",
    "\n",
    "Should return:\n",
    "\n",
    "```python\n",
    "['Origami', 'Yellow apper', 'Folding', 'Paper', 'Triangle', 'Person']\n",
    "\"A person skillfully folds a yellow paper into a precise triangle, showcasing their origami skills.\"\n",
    "```"
   ]
  },
  {
   "cell_type": "markdown",
   "id": "a87c5c46",
   "metadata": {},
   "source": [
    "You wil load the LLM responses from a json file. This json file is a list of dicts. The structure is like this: \n",
    "```python\n",
    "dataset = [\n",
    "    {\n",
    "        \"response\": llm response, \n",
    "        \"keywords\": ground-truth keywords,\n",
    "        \"summary\": ground-truth summary,\n",
    "    },\n",
    "    ...\n",
    "]\n",
    "```\n",
    "Only the \"response\" item of every dict is allowed to be used in the main function. The \"keywords\" and \"summary\" items are only used for the program testing.   \n",
    "You can write you own code to test the program but **do not** use ``dataset[i][\"keywords\"]`` or ``dataset[i][\"summary\"]`` in function ``post_process``.\n"
   ]
  },
  {
   "cell_type": "code",
   "execution_count": 6,
   "id": "6cfc37ca",
   "metadata": {},
   "outputs": [],
   "source": [
    "import json\n",
    "file_path = r\"./dataset.json\" # put the dataset.json and this code file in the same folder\n",
    "with open(file_path, \"r\") as f_r:\n",
    "    dataset = json.load(f_r)"
   ]
  },
  {
   "cell_type": "code",
   "execution_count": 7,
   "id": "10a4d0c9",
   "metadata": {},
   "outputs": [
    {
     "name": "stdout",
     "output_type": "stream",
     "text": [
      "Here is a bullet-point list of relevant keywords present in the video:\n",
      "\n",
      "• Dragon\n",
      "• Flying\n",
      "• Dog\n",
      "• Whistle\n",
      "• Holiday\n",
      "• Drop\n",
      "\n",
      "And here is a new short description of the video based on the generated keywords in one sentence:\n",
      "\n",
      "\"A magical dragon soars through the air while a dog whistles in harmony, celebrating a festive holiday with a joyful drop.\"\n"
     ]
    }
   ],
   "source": [
    "#check the LLM response from the first data sample \n",
    "print(dataset[0]['response'])"
   ]
  },
  {
   "cell_type": "code",
   "execution_count": null,
   "id": "5757a228",
   "metadata": {},
   "outputs": [],
   "source": [
    "def post_process(response: str):\n",
    "    \"\"\"\n",
    "    args:\n",
    "        response (str): a line of LLM's output\n",
    "    return:\n",
    "        keywords (list[str]): a list of keywords in the response\n",
    "        summary (str): the overall summary \n",
    "    \"\"\"\n",
    "    #write you code here\n",
    "    raise NotImplemented #delete this line when you are working on this function "
   ]
  },
  {
   "cell_type": "code",
   "execution_count": null,
   "id": "dfebbbb9",
   "metadata": {},
   "outputs": [],
   "source": [
    "# Test you code with the following script\n",
    "import random \n",
    "indexes = list(range(len(dataset)))\n",
    "random.shuffle(indexes)\n",
    "for id in indexes:\n",
    "    line = dataset[id]\n",
    "    keywords, summary = post_process(line[\"response\"])\n",
    "    assert keywords == line['keywords'], \"Incorrect keywords list\"\n",
    "    assert summary == line['summary'], \"Incorrect summary\"\n",
    "print(\"Done!\")"
   ]
  }
 ],
 "metadata": {
  "kernelspec": {
   "display_name": "Python 3",
   "language": "python",
   "name": "python3"
  },
  "language_info": {
   "codemirror_mode": {
    "name": "ipython",
    "version": 3
   },
   "file_extension": ".py",
   "mimetype": "text/x-python",
   "name": "python",
   "nbconvert_exporter": "python",
   "pygments_lexer": "ipython3",
   "version": "3.11.9"
  }
 },
 "nbformat": 4,
 "nbformat_minor": 5
}
