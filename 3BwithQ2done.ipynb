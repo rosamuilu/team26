{
 "cells": [
  {
   "cell_type": "markdown",
   "metadata": {},
   "source": [
    "## Algorithms and Data Structures in Python — Assignment 3B ##\n",
    "\n",
    "The following assignment will test your understanding of topics covered in the first four weeks of the course. This assignment **will count towards your grade** and should be submitted through Canvas by **03.10.2022 at 23:59 (CEST)**. You must work and submit in groups of three students. You can get at most 5 points for Assignment 3B, which is 5\\% of your final grade. Please submit your notebooks for 3A and 3B together.\n",
    "\n",
    "1. For submission, please rename your notebook as ```group_{i}_assignment2.ipynb```. For example, submission by group 1 should have the filename ```group_1_assignment2.ipynb```.\n",
    "\n",
    "2. Please follow the function prototype specified in the question for writing your code. The usage of additional functions is acceptable unless the problem expressly prohibits it. If this structure is modified, it will fail automated testing steps.\n",
    "\n",
    "3. All submissions will be checked for code similarity. Submissions with high similarity will be summarily rejected and no points will be awarded.\n",
    "\n",
    "4. Please do NOT use the ```input()``` function in your code. \n",
    "\n",
    "5. For each exercise the correct solution counts for the 80% of the exercise's points, while code style counts for the remaining 20%. Please, make sure that you explain what your implementation does using comments."
   ]
  },
  {
   "cell_type": "markdown",
   "metadata": {},
   "source": [
    "### Recursive Route Planner ###\n",
    "\n",
    "You've been selected for an internship at TomTom and as a part of your first project, you have been asked to design the core functionality for a route planner that computes the path between two points in a city. TomTom stores top-down 2D views of a city in a 2D Numpy array. An example layout for a city is shown below:\n",
    "\n",
    "```python\n",
    "city_map = np.array([[ 1, 1, 1, 1, 1, 1, 1, 1, 1, 1 ],\n",
    "[ 1, 0, 1, 1, 1, 1, 1, 1, 1, 1 ],\n",
    "[ 1, 1, 1, 0, 1, 1, 1, 1, 1, 1 ],\n",
    "[ 1, 1, 1, 1, 0, 1, 1, 1, 1, 1 ],\n",
    "[ 1, 1, 1, 1, 1, 1, 1, 1, 1, 1 ],\n",
    "[ 1, 1, 1, 1, 1, 0, 1, 1, 1, 1 ],\n",
    "[ 1, 0, 1, 1, 1, 1, 1, 1, 0, 1 ],\n",
    "[ 1, 1, 1, 1, 1, 1, 1, 1, 1, 1 ],\n",
    "[ 1, 1, 1, 1, 1, 1, 1, 1, 1, 1 ],\n",
    "[ 0, 1, 1, 1, 1, 0, 1, 1, 1, 1 ],\n",
    "[ 1, 1, 1, 1, 1, 1, 1, 1, 1, 1 ],\n",
    "[ 1, 1, 1, 0, 1, 1, 1, 1, 1, 1 ]]\n",
    ")\n",
    "```\n",
    "\n",
    "In this map, locations marked with ‘1’ represents empty-spaces whereas ‘0’ represent buildings. Your task is to code a solution that computes a driving route via empty spaces from one end of the city to the other subject to the following constraints:\n",
    "\n",
    "1. Drivers always start from an empty-space in the extreme left column (```city_map[:,0]```) and always terminate their journey in the column on the extreme right (```city_map[:,-1]```).\n",
    "\n",
    "2. They never revisit a location they’ve already passed.\n",
    "\n",
    "3. Drivers do not move diagonally.\n",
    "\n",
    "4. Locations directly above, below, left and right of a building are their designated parking spots. Drivers cannot drive through these locations (they cannot be used for the path).\n",
    "\n",
    "5. Drivers are not concerned about the distance. All valid paths are admissible as a solution irrespective of their length.\n",
    "\n",
    "To get started, follow these steps:\n",
    "\n",
    "1. Given a city map, mark locations directly above, below, left and right of a building as blocked (remember, they are parking locations for the building and cannot be used for the route). Save this transformed map in a second map called\n",
    "```marked_city_map```.\n",
    "\n",
    "2. Once you have a ```marked_city_map```, you will start from a location in the left-most column. Before moving into a new location, you must check if it is blocked (note that you cannot stand at a location of a building or parking). Once you move into an unblocked spot, you can then look again in four possible directions (up, down, left, right) to see if you can move there.\n",
    "\n",
    "3. You must implement the above procedure using a **recursive** function that takes a step in all unblocked directions and checks if it can then repeat this again. It recursively repeats this till it reaches the final column.\n",
    "\n",
    "You can break this into the following functions:\n",
    "\n",
    "1. [1 point] Write a function ```mark_parking_locations()``` takes a 2D Numpy array ```city_map``` as an argument and converts it to a ```marked_city_map``` by marking all parking locations. You should mark parking locations with -1 in your Numpy array.\n",
    "\n",
    "```python\n",
    "def mark_parking_locations(city_map):\n",
    "    ...\n",
    "    return marked_city_map\n",
    "```"
   ]
  },
  {
   "cell_type": "markdown",
   "metadata": {},
   "source": [
    "For the ```city_map``` given above, you should obtain the following ```marked_city_map```. \n",
    "\n",
    "```python\n",
    "array([[ 1, -1,  1,  1,  1,  1,  1,  1,  1,  1],\n",
    "       [-1,  0, -1, -1,  1,  1,  1,  1,  1,  1],\n",
    "       [ 1, -1, -1,  0, -1,  1,  1,  1,  1,  1],\n",
    "       [ 1,  1,  1, -1,  0, -1,  1,  1,  1,  1],\n",
    "       [ 1,  1,  1,  1, -1, -1,  1,  1,  1,  1],\n",
    "       [ 1, -1,  1,  1, -1,  0, -1,  1, -1,  1],\n",
    "       [-1,  0, -1,  1,  1, -1,  1, -1,  0, -1],\n",
    "       [ 1, -1,  1,  1,  1,  1,  1,  1, -1,  1],\n",
    "       [-1,  1,  1,  1,  1, -1,  1,  1,  1,  1],\n",
    "       [ 0, -1,  1,  1, -1,  0, -1,  1,  1,  1],\n",
    "       [-1,  1,  1, -1,  1, -1,  1,  1,  1,  1],\n",
    "       [ 1,  1, -1,  0, -1,  1,  1,  1,  1,  1]])\n",
    "```"
   ]
  },
  {
   "cell_type": "code",
   "execution_count": 6,
   "metadata": {},
   "outputs": [],
   "source": [
    "import numpy as np"
   ]
  },
  {
   "cell_type": "code",
   "execution_count": 7,
   "metadata": {},
   "outputs": [],
   "source": [
    "city_map = np.array([[ 1, 1, 1, 1, 1, 1, 1, 1, 1, 1 ],\n",
    "[ 1, 0, 1, 1, 1, 1, 1, 1, 1, 1 ],\n",
    "[ 1, 1, 1, 0, 1, 1, 1, 1, 1, 1 ],\n",
    "[ 1, 1, 1, 1, 0, 1, 1, 1, 1, 1 ],\n",
    "[ 1, 1, 1, 1, 1, 1, 1, 1, 1, 1 ],\n",
    "[ 1, 1, 1, 1, 1, 0, 1, 1, 1, 1 ],\n",
    "[ 1, 0, 1, 1, 1, 1, 1, 1, 0, 1 ],\n",
    "[ 1, 1, 1, 1, 1, 1, 1, 1, 1, 1 ],\n",
    "[ 1, 1, 1, 1, 1, 1, 1, 1, 1, 1 ],\n",
    "[ 0, 1, 1, 1, 1, 0, 1, 1, 1, 1 ],\n",
    "[ 1, 1, 1, 1, 1, 1, 1, 1, 1, 1 ],\n",
    "[ 1, 1, 1, 0, 1, 1, 1, 1, 1, 1 ]]\n",
    ")"
   ]
  },
  {
   "cell_type": "code",
   "execution_count": 8,
   "metadata": {},
   "outputs": [],
   "source": [
    "def mark_parking(map, marked_map, x, y):\n",
    "    # Check if current position is within bounds and is a space (1)\n",
    "    if x < 0 or x >= marked_map.shape[0] or y < 0 or y >= marked_map.shape[1] or marked_map[x, y] != 1:\n",
    "        return\n",
    "    \n",
    "    # Check if any adjacent cells contain a building (0)\n",
    "    if ((x > 0 and map[x - 1, y] == 0) or   # above\n",
    "        (x < marked_map.shape[0] - 1 and map[x + 1, y] == 0) or  # below\n",
    "        (y > 0 and map[x, y - 1] == 0) or   # left\n",
    "        (y < marked_map.shape[1] - 1 and map[x, y + 1] == 0)): # right\n",
    "        marked_map[x, y] = -1  # Mark as parking"
   ]
  },
  {
   "cell_type": "code",
   "execution_count": 9,
   "metadata": {},
   "outputs": [],
   "source": [
    "def check_all_positions(map, marked_map, x, y):\n",
    "    # If we've reached the end of the rows\n",
    "    if x >= marked_map.shape[0]:\n",
    "        return\n",
    "    # If we've reached the end of the columns, move to the next row\n",
    "    if y >= marked_map.shape[1]:\n",
    "        check_all_positions(map, marked_map, x + 1, 0)\n",
    "        return\n",
    "\n",
    "    # Mark parking if applicable\n",
    "    mark_parking(map, marked_map, x, y)\n",
    "    \n",
    "    # Move to the next column\n",
    "    check_all_positions(map, marked_map, x, y + 1)"
   ]
  },
  {
   "cell_type": "code",
   "execution_count": 10,
   "metadata": {},
   "outputs": [],
   "source": [
    "def mark_parking_locations(map):\n",
    "    \"\"\"\n",
    "    Find parking locations and replace them with -1 in the city_map.\n",
    "    A parking location is identified as a space (1) that is adjacent to a building (0).\n",
    "    \"\"\"\n",
    "    marked_map = map.copy()\n",
    "    check_all_positions(map, marked_map, 0, 0)\n",
    "    return marked_map"
   ]
  },
  {
   "cell_type": "code",
   "execution_count": 11,
   "metadata": {},
   "outputs": [
    {
     "name": "stdout",
     "output_type": "stream",
     "text": [
      "updated city map with parking locations: \n",
      "----------------------------------------\n",
      " [[ 1 -1  1  1  1  1  1  1  1  1]\n",
      " [-1  0 -1 -1  1  1  1  1  1  1]\n",
      " [ 1 -1 -1  0 -1  1  1  1  1  1]\n",
      " [ 1  1  1 -1  0 -1  1  1  1  1]\n",
      " [ 1  1  1  1 -1 -1  1  1  1  1]\n",
      " [ 1 -1  1  1 -1  0 -1  1 -1  1]\n",
      " [-1  0 -1  1  1 -1  1 -1  0 -1]\n",
      " [ 1 -1  1  1  1  1  1  1 -1  1]\n",
      " [-1  1  1  1  1 -1  1  1  1  1]\n",
      " [ 0 -1  1  1 -1  0 -1  1  1  1]\n",
      " [-1  1  1 -1  1 -1  1  1  1  1]\n",
      " [ 1  1 -1  0 -1  1  1  1  1  1]]\n"
     ]
    }
   ],
   "source": [
    "marked_city_map = mark_parking_locations(city_map)\n",
    "\n",
    "print(f'updated city map with parking locations: \\n----------------------------------------\\n {marked_city_map}')"
   ]
  },
  {
   "cell_type": "markdown",
   "metadata": {},
   "source": [
    "2. [3 points] The function ```find_route()``` _recursively_ computes the path from a starting location in the first column (given by coordinates (0,y)) to **any** location in the final column. During the search process, it must mark the moves already made on the map. You can use numbers like ```{10, 20, 30, 40}``` as direction codes for the four directions ```{UP, DOWN, LEFT, RIGHT}``` directions. The prototype for this function is given below.\n",
    "\n",
    "```python\n",
    "def find_route(route_map, current_loc, visited_locs):\n",
    "    ...\n",
    "```\n",
    "\n",
    "Your recursive function MUST use the following arguments\n",
    "\n",
    "- route_map: A map marked with direction codes for a specific route.\n",
    "- current_loc: Tuple containing the current location on the map.\n",
    "- visited_locs: A list of tuples containing previously visited locations.\n",
    "\n",
    "In addition to these mandatory arguments, you may optionally use additional arguments if necessary. The function returns a completed route map map marked with direction codes for a valid route. If no valid route can be found, return ```None```. An example output from this function is provided below:\n",
    "\n",
    "```python\n",
    "array([[ 1, -1,  1,  1,  1,  1,  1,  1,  1,  1],\n",
    "       [-1,  0, -1, -1,  1,  1,  1,  1,  1,  1],\n",
    "       [20, -1, -1,  0, -1,  1,  1,  1,  1,  1],\n",
    "       [40, 40, 20, -1,  0, -1,  1,  1,  1,  1],\n",
    "       [ 1,  1, 20,  1, -1, -1,  1,  1,  1,  1],\n",
    "       [ 1, -1, 40, 20, -1,  0, -1,  1, -1,  1],\n",
    "       [-1,  0, -1, 20,  1, -1,  1, -1,  0, -1],\n",
    "       [ 1, -1, 20, 30, 40, 40, 40, 20, -1,  1],\n",
    "       [-1,  1, 20, 40, 10, -1,  1, 40, 40,  1],\n",
    "       [ 0, -1, 40, 10, -1,  0, -1,  1,  1,  1],\n",
    "       [-1,  1,  1, -1,  1, -1,  1,  1,  1,  1],\n",
    "       [ 1,  1, -1,  0, -1,  1,  1,  1,  1,  1]])\n",
    "```"
   ]
  },
  {
   "cell_type": "code",
   "execution_count": 52,
   "metadata": {},
   "outputs": [],
   "source": [
    "def find_route(route_map, current_loc, visited_locs):\n",
    "    # Unpack current location\n",
    "    y, x = current_loc  # y is row, x is column\n",
    "    rows, cols = route_map.shape\n",
    "    \n",
    "    # Check if we are out of bounds, at an obstacle, or have already visited this location\n",
    "    if y < 0 or y >= rows or x < 0 or x >= cols or route_map[y, x] != 1:\n",
    "        return None\n",
    "    \n",
    "    # Mark the current location as visited\n",
    "    route_map[y, x] = -1  # Mark as visited\n",
    "    visited_locs.append(current_loc)\n",
    "    \n",
    "    # If we are in the last column, we found a valid route\n",
    "    if x == cols - 1:\n",
    "        return route_map\n",
    "    \n",
    "    # Explore all four directions\n",
    "    # Move down\n",
    "    if find_route(route_map, (y + 1, x), visited_locs) is not None:\n",
    "        route_map[y, x] = 20  # Mark as moving down\n",
    "        return route_map\n",
    "    \n",
    "    # Move up\n",
    "    if find_route(route_map, (y - 1, x), visited_locs) is not None:\n",
    "        route_map[y, x] = 10  # Mark as moving up\n",
    "        return route_map\n",
    "    \n",
    "    # Move right\n",
    "    if find_route(route_map, (y, x + 1), visited_locs) is not None:\n",
    "        route_map[y, x] = 40  # Mark as moving right\n",
    "        return route_map\n",
    "    \n",
    "    # Move left (not really needed for the task, but good for completeness)\n",
    "    if find_route(route_map, (y, x - 1), visited_locs) is not None:\n",
    "        route_map[y, x] = 30  # Mark as moving left\n",
    "        return route_map\n",
    "    \n",
    "    # If no direction worked, backtrack (unmark current location)\n",
    "    route_map[y, x] = 1  # Unmark as visited for backtracking\n",
    "    visited_locs.pop()\n",
    "    return None"
   ]
  },
  {
   "cell_type": "code",
   "execution_count": 62,
   "metadata": {},
   "outputs": [
    {
     "name": "stdout",
     "output_type": "stream",
     "text": [
      "[[ 1 -1 40 40 20  1  1 40 20  1]\n",
      " [-1  0 -1 -1 40 20  1 10 20  1]\n",
      " [ 1 -1 -1  0 -1 40 20 10 20  1]\n",
      " [ 1  1  1 -1  0 -1 20 10 20  1]\n",
      " [ 1  1  1  1 -1 -1 40 10 40 -1]\n",
      " [ 1 -1  1  1 -1  0 -1  1 -1  1]\n",
      " [-1  0 -1  1  1 -1  1 -1  0 -1]\n",
      " [ 1 -1  1  1  1  1  1  1 -1  1]\n",
      " [-1  1  1  1  1 -1  1  1  1  1]\n",
      " [ 0 -1  1  1 -1  0 -1  1  1  1]\n",
      " [-1  1  1 -1  1 -1  1  1  1  1]\n",
      " [ 1  1 -1  0 -1  1  1  1  1  1]]\n"
     ]
    }
   ],
   "source": [
    "# Initialize visited locations\n",
    "visited_locs = []\n",
    "\n",
    "# Try to find a route from (0, y) for each row y\n",
    "result_map = find_route(city_map.copy(), (0, 2), visited_locs)\n",
    "\n",
    "\n",
    "print(result_map)"
   ]
  },
  {
   "cell_type": "markdown",
   "metadata": {},
   "source": [
    "3. [1 point] Finally, you should create a ```pretty_printer()``` function to show a readable output to the user. Python’s support for the Unicode specification for representing textual data allows you to create something like the example shown below. You can use different symbols if you prefer as long as it is meaningful. For this, replace the codes for building, parking spaces and direction codes ```{UP, DOWN, LEFT, RIGHT}``` with their corresponding symbols.\n",
    "\n",
    "```python\n",
    "def pretty_printer(route_map):\n",
    "    ...\n",
    "    return None\n",
    "```\n",
    "\n",
    "An example output:\n",
    "\n",
    "```python\n",
    "['🛣️', '❌', '🛣️', '🛣️', '🛣️', '🛣️', '🛣️', '🛣️', '🛣️', '🛣️']\n",
    "['❌', '🏢', '❌', '❌', '🛣️', '🛣️', '🛣️', '🛣️', '🛣️', '🛣️']\n",
    "['⬇️', '❌', '❌', '🏢', '❌', '🛣️', '🛣️', '🛣️', '🛣️', '🛣️']\n",
    "['➡️', '➡️', '⬇️', '❌', '🏢', '❌', '🛣️', '🛣️', '🛣️', '🛣️']\n",
    "['🛣️', '🛣️', '⬇️', '🛣️', '❌', '❌', '🛣️', '🛣️', '🛣️', '🛣️']\n",
    "['🛣️', '❌', '➡️', '⬇️', '❌', '🏢', '❌', '🛣️', '❌', '🛣️']\n",
    "['❌', '🏢', '❌', '⬇️', '🛣️', '❌', '🛣️', '❌', '🏢', '❌']\n",
    "['🛣️', '❌', '⬇️', '⬅️', '➡️', '➡️', '➡️', '⬇️', '❌', '🛣️']\n",
    "['❌', '🛣️', '⬇️', '➡️', '⬆️', '❌', '🛣️', '➡️', '➡️', '🛣️']\n",
    "['🏢', '❌', '➡️', '⬆️', '❌', '🏢', '❌', '🛣️', '🛣️', '🛣️']\n",
    "['❌', '🛣️', '🛣️', '❌', '🛣️', '❌', '🛣️', '🛣️', '🛣️', '🛣️']\n",
    "['🛣️', '🛣️', '❌', '🏢', '❌', '🛣️', '🛣️', '🛣️', '🛣️', '🛣️']\n",
    "```\n",
    "\n",
    "\n",
    "For this exercise, you are free to use as many ancillary user-defined functions as you need.\n",
    "\n"
   ]
  },
  {
   "cell_type": "code",
   "execution_count": 8,
   "metadata": {},
   "outputs": [],
   "source": [
    "def pretty_printer(route_map):\n",
    "    \n",
    "    return None"
   ]
  }
 ],
 "metadata": {
  "kernelspec": {
   "display_name": "Python 3",
   "language": "python",
   "name": "python3"
  },
  "language_info": {
   "codemirror_mode": {
    "name": "ipython",
    "version": 3
   },
   "file_extension": ".py",
   "mimetype": "text/x-python",
   "name": "python",
   "nbconvert_exporter": "python",
   "pygments_lexer": "ipython3",
   "version": "3.12.2"
  }
 },
 "nbformat": 4,
 "nbformat_minor": 2
}
