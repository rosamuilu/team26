{
 "cells": [
  {
   "cell_type": "markdown",
   "metadata": {
    "colab_type": "text",
    "id": "qXRb042E9dZM"
   },
   "source": [
    "# Algorithms and Data Structures in Python — Assignment III (Part One)\n",
    "\n",
    "The following assignment will test your understanding of topics covered in the first four weeks of the course. This assignment will count towards your grade and should be submitted through Canvas by 03.10.2023 at 23:59 (CEST). You are required to work and prepare your submissions in groups with 3 students per group. You can get at most **5 points for Assignment III (Part One)**, which is 5\\% of your final grade. Assignment III (Part Two) will be released next week. Please submit your notebooks for Assignment III (Part One) and (Part Two) together.\n",
    "\n",
    "1. For submission, please rename your notebook as ```group_{i}_assignment2.ipynb```. For example, submission by group 1 should have the filename ```group_1_assignment2.ipynb```.\n",
    "\n",
    "2. Please follow the function prototype specified in the question for writing your code. The usage of additional functions is acceptable unless the problem expressly prohibits it. If this structure is modified, it will fail automated testing steps\n",
    "\n",
    "3. Do **not** externally modify the CSV data file accompanying this assignment.\n",
    "\n",
    "4. For this assignment, the usage of ```pandas``` is **not** allowed. Usage of ```numpy``` is acceptable.\n",
    "\n",
    "5. All submissions will be checked for code similarity. Submissions with high similarity will be summarily rejected and no points will be awarded.\n",
    "\n",
    "6. For each exercise the correct solution counts for the 80% of the exercise's points, while code style counts for the remaining 20%. Please, make sure that you explain what your implementation does using comments."
   ]
  },
  {
   "cell_type": "markdown",
   "metadata": {
    "colab_type": "text",
    "id": "7AB9vlQKBpqE"
   },
   "source": [
    "## Working with Data ##\n",
    "\n",
    "As you begin to work on real-world problems, statistical figures and data will often be provided to you as panel data. Python can automate the cleaning and processing of this data with high speed and unmatched accuracy. In this homework, you will build small utilities to work with panel data."
   ]
  },
  {
   "cell_type": "markdown",
   "metadata": {
    "colab_type": "text",
    "id": "Opr96siXBvWZ"
   },
   "source": [
    "### Problem 1 : Loading CSV Data (1 point)\n",
    "\n",
    "Let's start with how to load data. In this problem, you will load the ```enron_employees.csv``` file provided with this assignment. (A comma-separated values (CSV) file is a text file that contains data 'delimited' by a character into separate values. When read by a program, these files can be easily converted into simple spreadsheets and can be read and edited by popular spreadsheet processing programs like Microsoft Excel or LibreOffice Calc. Since CSV files are simple to load and do not require specialized commercial software for usage, they are extremely popular as a data-distribution format.)\n",
    "\n",
    "NOTE: When row numbers are mentioned below, they start from 1 as you would generally see in spreadsheet software like Calc or Excel. Please do not forget that Python uses zero-based indexing (indices start from 0 instead of 1).\n",
    "\n",
    "In this assignment, you will use the csv library to load CSV files. The code for reading a csv file using the csv library is as follows.\n",
    "```python\n",
    "with open('path/to/your/file', 'r', encoding=\"utf8\") as rf:\n",
    "\treader = csv.reader(rf, delimiter = ',')\n",
    "\tfor row in reader:\n",
    "\t\tprint(row) # row represents a single row of data from the CSV file. csv.reader reads the file line by line, and each row is stored as a list where each element corresponds to a cell in that row.\n",
    "```\n",
    "\n",
    " In this problem, you will implement a function named ```load_data(filepath)``` that first read the provided csv file and return the header and data. Header is a first row of the csv file and data contains everything from row 2 onwards. \n",
    "\n",
    "Example: the function will be called by ```load_data('path/to/your/file')```. The header and data should be return in the format of two lists, i.e., ```['from', 'to', 'timestamp'], [['48', '13', '926389620'], ['67', '13', '926418960'], ['67', '13', '926418960'], ['75', '147', '926430480'], ['67', '48', '926498640']]```."
   ]
  },
  {
   "cell_type": "code",
   "execution_count": 1,
   "metadata": {
    "colab": {},
    "colab_type": "code",
    "id": "LgHRTCKfHBXM"
   },
   "outputs": [],
   "source": [
    "import csv\n",
    "\n",
    "def load_data(filepath):\n",
    "    raise NotImplemented"
   ]
  },
  {
   "cell_type": "code",
   "execution_count": 35,
   "metadata": {
    "colab": {},
    "colab_type": "code",
    "id": "qoU9OHpNHK1d"
   },
   "outputs": [],
   "source": [
    "header, data = load_data('enron_employees.csv') # assume that you put enron_employees.csv and the ,ipynb file at the same folder, otherwise you should replace 'enron_employees.csv' with the correct path\n",
    "assert(header == ['from', 'to', 'timestamp'])\n",
    "assert(data[0:5] == [['48', '13', '926389620'], ['67', '13', '926418960'], ['67', '13', '926418960'], ['75', '147', '926430480'], ['67', '48', '926498640']])"
   ]
  },
  {
   "cell_type": "markdown",
   "metadata": {
    "colab_type": "text",
    "id": "qSY71hqRHtBy"
   },
   "source": [
    "### Problem 2  : Extract Rows and Columns (1 point)\n",
    "\n",
    "Once we have the data loaded, we might need to access the data in certain ways. For example, a user might want to extract all the values for a particular continent. In this problem, we will write code to extract a complete row or column from the data.\n",
    "\n",
    "In this problem, you will implement a function ```extract_axis```. The function ```extract_axis(header, data, request)``` should provide the following functionality:\n",
    "\n",
    "1. Accept header, data (return of the function above) and a tuple request that contains two items: axis and index. axis specifies whether to extract a row or a column, and index specifies which column or row needs to be extracted. The index is based on the structure of data where an index of 0 corresponds to extracting the first row or the first column of data depending on the axis selected.\n",
    "\n",
    "2. Return the fetched row or column as a list.\n",
    "\n",
    "3. Return an empty list if an invalid request, like asking for the 20th column (which does not exist) or the 80,000th row, is made.\n",
    "\n",
    "Following are a few examples:\n",
    "\n",
    "- Example 1: If the 3rd column needs to be extracted, the function will be called by ```extract_axis(header, data, ('col', '2'))``` and a list contains the 3rd column should be returned, i.e., ```['926389620', '926418960', '926418960', '926430480', ... , '949312440', '949312440']```.\n",
    "\n",
    "- Example 2: If the 1st row needs to be extracted, the function will be called by ```extract_axis(header, data, ('row', '0'))``` and a list contains the 1st row should be returned, i.e., ```['48', '13', '926389620']```.\n",
    "\n",
    "- Example 3: If the 5th column needs to be extracted, the function will be called by ```extract_axis(header, data, ('col', '4'))``` and a empty list should be returned as there is no 5th column.\n",
    "\n",
    "- Example 3: If the 10000th row needs to be extracted, the function will be called by ```extract_axis(header, data, ('row', '9999'))``` and a empty list should be returned as there is no 10000th row.\n"
   ]
  },
  {
   "cell_type": "code",
   "execution_count": null,
   "metadata": {},
   "outputs": [],
   "source": [
    "def extract_axis(header, data, request):\n",
    "    raise NotImplemented"
   ]
  },
  {
   "cell_type": "code",
   "execution_count": 37,
   "metadata": {},
   "outputs": [],
   "source": [
    "request = ('col', '2') \n",
    "assert(extract_axis(header, data, request)[0:5] == ['926389620', '926418960', '926418960', '926430480', '926498640'])\n",
    "request = ('col', '5') \n",
    "assert(extract_axis(header, data, request) == [])\n",
    "\n",
    "request = ('row', 0)\n",
    "assert(extract_axis(header, data, request) == ['48', '13', '926389620'])\n",
    "request = ('row', 2000)\n",
    "assert(extract_axis(header, data, request) == [])"
   ]
  },
  {
   "cell_type": "markdown",
   "metadata": {},
   "source": [
    "### Problem 3 Processing data\n",
    "\n",
    "#### Problem 3.1 Counting emails(1 points)\n",
    "\n",
    "The provided csv file records the email correspondence of certain users in the company Enron over a specific period of time. Each row in the dataset represents a single email record with the following columns:\n",
    "\n",
    "- **from**: The user ID of the sender\n",
    "- **to**: The user ID of the recipient\n",
    "- **timestamp**: The timestamp when the email was sent\n",
    "\n",
    "In this problem, you will implement a function ```count_emails(data)``` that takes header, data which returns from function ```load_data``` as inputs. Your function should return a dictionary where the keys are user IDs and the values are lists which record the numbers of emails that each user sent and received.\n",
    "\n",
    "Example: The function will be called by ```count_emails(header, data)```. The function should return a dictionary where the keys are user IDs and the values are lists which record the numbers of emails that each user sent and received, i.e., ```{'48': [305, 38], '13': [22, 169], '67': [272, 99], '75': [30, 2], ... , '45': [0, 2], '148': [0, 2]} ```, where ```'48': [305, 38]``` represent user whose ID is 48 sent 305 emails and received 38 emails."
   ]
  },
  {
   "cell_type": "code",
   "execution_count": null,
   "metadata": {},
   "outputs": [],
   "source": [
    "def count_emails(header, data):\n",
    "\t\traise NotImplemented"
   ]
  },
  {
   "cell_type": "code",
   "execution_count": 23,
   "metadata": {},
   "outputs": [],
   "source": [
    "assert(count_emails(header, data)['81']==[0, 79])"
   ]
  },
  {
   "cell_type": "markdown",
   "metadata": {},
   "source": [
    "#### Problem 3.2 (1 points)\n",
    "\n",
    " In this problem,you will implement a function `user_interact_times(header, data, user)` that takes header, data and the ID of a user as inputs. The function should return a list which records the timestamps when the user received or sent an email.\n",
    "\n",
    "Example: If the timestamps when the user whose ID is 27 received or sent an email need to be queried, the function will be called by ```user_interact_times(table, data, ‘27’)``` and a list contains the timestamps should be returned, i.e., ```\n",
    "['933128880', '934871340', '937217160', '939265800', '939714540', '940407300', '943877460', '943877460', '944625600', '944645820', '944700780', '944725860', '944726280', '944816760', '945051300', '945133080', '945163920', '945236760', '945253980', '945309780', '945312600', '945392280', '945392280', '945392760', '945425040', '945681420', '945681960', '945760560', '946272300', '946272300', '946450320', '946980900', '947121000', '947128680', '947147940', '947236440', '947482800', '947482800', '947497740', '947576880', '947576880', '947637360', '947660340', '947660340', '947667600', '947754420', '947839620', '948099780', '948269220', '948360300', '948675360', '948762540', '948771780', '948789300', '948876600', '948965040', '949309920']```"
   ]
  },
  {
   "cell_type": "code",
   "execution_count": null,
   "metadata": {},
   "outputs": [],
   "source": [
    "def user_interact_times(header, data, user):\n",
    "\t\traise NotImplemented"
   ]
  },
  {
   "cell_type": "code",
   "execution_count": 30,
   "metadata": {},
   "outputs": [],
   "source": [
    "user = '27'\n",
    "assert(user_interact_times(header, data, user)==['933128880', '934871340', '937217160', '939265800', '939714540', '940407300', '943877460', '943877460', '944625600', '944645820', '944700780', '944725860', '944726280', '944816760', '945051300', '945133080', '945163920', '945236760', '945253980', '945309780', '945312600', '945392280', '945392280', '945392760', '945425040', '945681420', '945681960', '945760560', '946272300', '946272300', '946450320', '946980900', '947121000', '947128680', '947147940', '947236440', '947482800', '947482800', '947497740', '947576880', '947576880', '947637360', '947660340', '947660340', '947667600', '947754420', '947839620', '948099780', '948269220', '948360300', '948675360', '948762540', '948771780', '948789300', '948876600', '948965040', '949309920'])"
   ]
  },
  {
   "cell_type": "markdown",
   "metadata": {},
   "source": [
    "#### Problem 3.3 Format timestamps (1 points)\n",
    "\n",
    "The timestamps in the provided csv file is recored in Unix format. Unix format represents the number of seconds that have elapsed since January 1, 1970. This format is not easily readable by humans.\n",
    "\n",
    "In this problem, you will implement a function `format_timestamp(header, data)` that takes header, data as inputs. The function should convert the Unix timestamp of each row to a more readable date format: `YYYY-MM-DD HH:MM:SS`. This more readable form of the timestamp will be appended to each row. The header should also be updated to add a column name `timestamp_formated`. The updated header and data should be returned.\n",
    "\n",
    "In this exercies, you are allowed to use package datetime to format the timestamp as follows:\n",
    "\n",
    "```python\n",
    "from datetime import datetime\n",
    "unix_timestamp = int('939019080')\n",
    "readable_timestamp = datetime.fromtimestamp(unix_timestamp).strftime('%Y-%m-%d %H:%M:%S')\n",
    "```\n",
    "\n",
    "\n",
    "Example: the function will be called by ```format_timestamp(header, data)```. The updated header (```['from', 'to', 'timestamp', 'time']```) and formatted data (```[['48', '13', '926389620', '1999-05-11 02:27:00'], ['67', '13', '926418960', '1999-05-11 10:36:00'], ['67', '13', '926418960', '1999-05-11 10:36:00'], ... , ['137', '49', '949312440', '2000-01-31 09:54:00']]```) should be returned."
   ]
  },
  {
   "cell_type": "code",
   "execution_count": null,
   "metadata": {},
   "outputs": [],
   "source": [
    "def format_timestamp(header, data):\n",
    "\t\traise NotImplemented"
   ]
  },
  {
   "cell_type": "code",
   "execution_count": 32,
   "metadata": {},
   "outputs": [],
   "source": [
    "new_header, formatted_data = format_timestamp(header, data)\n",
    "assert(new_header == ['from', 'to', 'timestamp', 'formatted_timestamp'])\n",
    "assert(formatted_data[0:3] == [['48', '13', '926389620', '1999-05-11 04:27:00'], ['67', '13', '926418960', '1999-05-11 12:36:00'], ['67', '13', '926418960', '1999-05-11 12:36:00']])"
   ]
  }
 ],
 "metadata": {
  "colab": {
   "collapsed_sections": [],
   "name": "Final_DSA_Assignment_III_a.ipynb",
   "provenance": []
  },
  "kernelspec": {
   "display_name": "Python 3",
   "language": "python",
   "name": "python3"
  },
  "language_info": {
   "codemirror_mode": {
    "name": "ipython",
    "version": 3
   },
   "file_extension": ".py",
   "mimetype": "text/x-python",
   "name": "python",
   "nbconvert_exporter": "python",
   "pygments_lexer": "ipython3",
   "version": "3.11.4"
  }
 },
 "nbformat": 4,
 "nbformat_minor": 1
}
